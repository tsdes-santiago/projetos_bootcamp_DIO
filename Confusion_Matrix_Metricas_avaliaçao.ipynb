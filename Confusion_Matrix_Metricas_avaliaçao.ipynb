{
  "nbformat": 4,
  "nbformat_minor": 0,
  "metadata": {
    "colab": {
      "provenance": [],
      "gpuType": "T4",
      "include_colab_link": true
    },
    "kernelspec": {
      "name": "python3",
      "display_name": "Python 3"
    },
    "accelerator": "GPU"
  },
  "cells": [
    {
      "cell_type": "markdown",
      "metadata": {
        "id": "view-in-github",
        "colab_type": "text"
      },
      "source": [
        "<a href=\"https://colab.research.google.com/github/tsdes-santiago/projetos_bootcamp_DIO/blob/main/Confusion_Matrix_Metricas_avalia%C3%A7ao.ipynb\" target=\"_parent\"><img src=\"https://colab.research.google.com/assets/colab-badge.svg\" alt=\"Open In Colab\"/></a>"
      ]
    },
    {
      "cell_type": "code",
      "source": [
        "\"\"\"\n",
        "DIO: Formação Machine Learning Specialist\n",
        "Desafio : Cálculo de Métricas de Avaliação de Aprendizado\n",
        "\"\"\"\n",
        "\"\"\"\n",
        "Cópia MNIST matrix confusão\n",
        "\"\"\""
      ],
      "metadata": {
        "colab": {
          "base_uri": "https://localhost:8080/",
          "height": 35
        },
        "id": "2QEn_npOyl5g",
        "outputId": "89ea5d8b-7212-4ebb-9f41-5e8308c914c6"
      },
      "execution_count": 1,
      "outputs": [
        {
          "output_type": "execute_result",
          "data": {
            "text/plain": [
              "'\\nCópia MNIST matrix confusão\\n'"
            ],
            "application/vnd.google.colaboratory.intrinsic+json": {
              "type": "string"
            }
          },
          "metadata": {},
          "execution_count": 1
        }
      ]
    },
    {
      "cell_type": "code",
      "metadata": {
        "id": "Nr2ZyMJk9bbn",
        "outputId": "d4d27529-9a1c-41e6-cc98-fd4bac95c87c",
        "colab": {
          "base_uri": "https://localhost:8080/"
        }
      },
      "source": [
        "#!pip install -q tensorflow-gpu==2.0.0-beta1 # version not found"
      ],
      "execution_count": 15,
      "outputs": [
        {
          "output_type": "stream",
          "name": "stdout",
          "text": [
            "\u001b[31mERROR: Could not find a version that satisfies the requirement tensorflow-gpu==2.0.0#-beta1 (from versions: 2.8.0rc0, 2.8.0rc1, 2.8.0, 2.8.1, 2.8.2, 2.8.3, 2.8.4, 2.9.0rc0, 2.9.0rc1, 2.9.0rc2, 2.9.0, 2.9.1, 2.9.2, 2.9.3, 2.10.0rc0, 2.10.0rc1, 2.10.0rc2, 2.10.0rc3, 2.10.0, 2.10.1, 2.11.0rc0, 2.11.0rc1, 2.11.0rc2, 2.11.0, 2.12.0)\u001b[0m\u001b[31m\n",
            "\u001b[0m\u001b[31mERROR: No matching distribution found for tensorflow-gpu==2.0.0#-beta1\u001b[0m\u001b[31m\n",
            "\u001b[0m"
          ]
        }
      ]
    },
    {
      "cell_type": "code",
      "metadata": {
        "id": "9GOTUsN2vHZr"
      },
      "source": [
        "from tensorflow.keras import datasets, layers, models\n",
        "import matplotlib.pyplot as plt\n",
        "import tensorflow as tf\n",
        "\n",
        "import numpy as np\n",
        "\n",
        "import seaborn as sns\n",
        "\n",
        "import pandas as pd"
      ],
      "execution_count": 2,
      "outputs": []
    },
    {
      "cell_type": "code",
      "metadata": {
        "id": "Wickr6O73HpO",
        "outputId": "7218fd9b-0c98-4aec-a408-b6441c10e97e",
        "colab": {
          "base_uri": "https://localhost:8080/",
          "height": 35
        }
      },
      "source": [
        "tf.__version__"
      ],
      "execution_count": 3,
      "outputs": [
        {
          "output_type": "execute_result",
          "data": {
            "text/plain": [
              "'2.15.0'"
            ],
            "application/vnd.google.colaboratory.intrinsic+json": {
              "type": "string"
            }
          },
          "metadata": {},
          "execution_count": 3
        }
      ]
    },
    {
      "cell_type": "code",
      "metadata": {
        "id": "Lc4AqLg2saU4"
      },
      "source": [
        "%load_ext tensorboard"
      ],
      "execution_count": 4,
      "outputs": []
    },
    {
      "cell_type": "code",
      "metadata": {
        "id": "wHY7qcTV2uxR"
      },
      "source": [
        "logdir='log'"
      ],
      "execution_count": 5,
      "outputs": []
    },
    {
      "cell_type": "code",
      "metadata": {
        "id": "8I41zgjVvF1g",
        "colab": {
          "base_uri": "https://localhost:8080/"
        },
        "outputId": "4eb4bb47-e85d-4138-bd1b-0ba89264a5ec"
      },
      "source": [
        "(train_images, train_labels), (test_images, test_labels) = datasets.mnist.load_data()\n",
        "\n",
        "train_images = train_images.reshape((60000, 28, 28, 1))\n",
        "test_images = test_images.reshape((10000, 28, 28, 1))\n",
        "\n",
        "train_images, test_images = train_images / 255.0, test_images / 255.0\n",
        "\n",
        "classes=[0,1,2,3,4,5,6,7,8,9]"
      ],
      "execution_count": 6,
      "outputs": [
        {
          "output_type": "stream",
          "name": "stdout",
          "text": [
            "Downloading data from https://storage.googleapis.com/tensorflow/tf-keras-datasets/mnist.npz\n",
            "11490434/11490434 [==============================] - 0s 0us/step\n"
          ]
        }
      ]
    },
    {
      "cell_type": "code",
      "metadata": {
        "id": "_eD7E_m39bis"
      },
      "source": [
        "model = models.Sequential()\n",
        "model.add(layers.Conv2D(32, (3, 3), activation='relu', input_shape=(28, 28, 1)))\n",
        "model.add(layers.MaxPooling2D((2, 2)))\n",
        "model.add(layers.Conv2D(64, (3, 3), activation='relu'))\n",
        "model.add(layers.MaxPooling2D((2, 2)))\n",
        "model.add(layers.Conv2D(64, (3, 3), activation='relu'))\n",
        "\n",
        "model.add(layers.Flatten())\n",
        "model.add(layers.Dense(64, activation='relu'))\n",
        "model.add(layers.Dense(10, activation='softmax'))\n"
      ],
      "execution_count": 7,
      "outputs": []
    },
    {
      "cell_type": "code",
      "metadata": {
        "id": "e19fqT7B4QII"
      },
      "source": [
        "tensorboard_callback = tf.keras.callbacks.TensorBoard(logdir, histogram_freq=1)"
      ],
      "execution_count": 8,
      "outputs": []
    },
    {
      "cell_type": "code",
      "metadata": {
        "id": "QOIbCQ3T9bml",
        "outputId": "3a563265-ae41-4010-9fee-fd6fab1122c5",
        "colab": {
          "base_uri": "https://localhost:8080/"
        }
      },
      "source": [
        "model.compile(optimizer='adam',\n",
        "              loss='sparse_categorical_crossentropy',\n",
        "              metrics=['accuracy'])\n",
        "\n",
        "model.fit(x=train_images,\n",
        "            y=train_labels,\n",
        "            epochs=5,\n",
        "            validation_data=(test_images, test_labels))"
      ],
      "execution_count": 9,
      "outputs": [
        {
          "output_type": "stream",
          "name": "stdout",
          "text": [
            "Epoch 1/5\n",
            "1875/1875 [==============================] - 13s 4ms/step - loss: 0.1451 - accuracy: 0.9554 - val_loss: 0.0462 - val_accuracy: 0.9852\n",
            "Epoch 2/5\n",
            "1875/1875 [==============================] - 8s 4ms/step - loss: 0.0484 - accuracy: 0.9848 - val_loss: 0.0633 - val_accuracy: 0.9794\n",
            "Epoch 3/5\n",
            "1875/1875 [==============================] - 8s 4ms/step - loss: 0.0344 - accuracy: 0.9890 - val_loss: 0.0301 - val_accuracy: 0.9887\n",
            "Epoch 4/5\n",
            "1875/1875 [==============================] - 8s 4ms/step - loss: 0.0269 - accuracy: 0.9916 - val_loss: 0.0333 - val_accuracy: 0.9890\n",
            "Epoch 5/5\n",
            "1875/1875 [==============================] - 8s 4ms/step - loss: 0.0206 - accuracy: 0.9934 - val_loss: 0.0308 - val_accuracy: 0.9891\n"
          ]
        },
        {
          "output_type": "execute_result",
          "data": {
            "text/plain": [
              "<keras.src.callbacks.History at 0x7ae0553367a0>"
            ]
          },
          "metadata": {},
          "execution_count": 9
        }
      ]
    },
    {
      "cell_type": "code",
      "source": [],
      "metadata": {
        "colab": {
          "base_uri": "https://localhost:8080/"
        },
        "id": "3Yvc-SB8z1xQ",
        "outputId": "d091f11a-7b0c-4610-a0b4-a823239e57e5"
      },
      "execution_count": 11,
      "outputs": [
        {
          "output_type": "execute_result",
          "data": {
            "text/plain": [
              "keras.src.engine.sequential.Sequential"
            ]
          },
          "metadata": {},
          "execution_count": 11
        }
      ]
    },
    {
      "cell_type": "code",
      "metadata": {
        "id": "SHkdG_lehhMU",
        "colab": {
          "base_uri": "https://localhost:8080/"
        },
        "outputId": "2b7eb18f-2931-4b8c-8390-7e48116a8d2e"
      },
      "source": [
        "y_true=test_labels\n",
        "#y_pred=model.predict_classes(test_images) #deprecated function\n",
        "y_pred = np.argmax(model.predict(test_images),axis=1) #New function"
      ],
      "execution_count": 17,
      "outputs": [
        {
          "output_type": "stream",
          "name": "stdout",
          "text": [
            "313/313 [==============================] - 2s 4ms/step\n"
          ]
        }
      ]
    },
    {
      "cell_type": "code",
      "metadata": {
        "id": "iu2h0QRmDJjW"
      },
      "source": [
        "classes=[0,1,2,3,4,5,6,7,8,9]"
      ],
      "execution_count": 12,
      "outputs": []
    },
    {
      "cell_type": "code",
      "metadata": {
        "id": "REXBQV3UX15X",
        "outputId": "7f465416-06a4-4fb3-ba62-3f4b58cc54ca",
        "colab": {
          "base_uri": "https://localhost:8080/",
          "height": 826
        }
      },
      "source": [
        "con_mat = tf.math.confusion_matrix(labels=y_true, predictions=y_pred).numpy()\n",
        "con_mat_norm = np.around(con_mat.astype('float') / con_mat.sum(axis=1)[:, np.newaxis], decimals=4)\n",
        "\n",
        "con_mat_df = pd.DataFrame(con_mat_norm,\n",
        "                     index = classes,\n",
        "                     columns = classes)\n",
        "\n",
        "figure = plt.figure(figsize=(8, 8))\n",
        "sns.heatmap(con_mat_df, annot=True,cmap=plt.cm.Blues)\n",
        "plt.tight_layout()\n",
        "plt.ylabel('True label')\n",
        "plt.xlabel('Predicted label')\n",
        "plt.show()"
      ],
      "execution_count": 19,
      "outputs": [
        {
          "output_type": "display_data",
          "data": {
            "text/plain": [
              "<Figure size 800x800 with 2 Axes>"
            ],
            "image/png": "[encoded data removed]"
          },
          "metadata": {}
        }
      ]
    },
    {
      "cell_type": "code",
      "source": [
        "######################################\n",
        "############# Cálculos usando a con_mat\n"
      ],
      "metadata": {
        "id": "cYQUkYFq2T42"
      },
      "execution_count": 24,
      "outputs": []
    },
    {
      "cell_type": "code",
      "source": [
        "# Matriz confuão sem normalização\n",
        "print(con_mat)"
      ],
      "metadata": {
        "colab": {
          "base_uri": "https://localhost:8080/"
        },
        "id": "LYEx4U1f2nVh",
        "outputId": "c6d2a92c-0437-4cae-85e1-ecf24601e5a6"
      },
      "execution_count": 29,
      "outputs": [
        {
          "output_type": "stream",
          "name": "stdout",
          "text": [
            "[[ 977    0    1    0    0    0    1    1    0    0]\n",
            " [   0 1132    1    0    1    0    1    0    0    0]\n",
            " [   2    3 1018    0    1    0    0    8    0    0]\n",
            " [   0    1    0  994    0    5    0    7    2    1]\n",
            " [   0    0    0    0  969    0    2    0    0   11]\n",
            " [   1    0    0    4    0  881    2    1    0    3]\n",
            " [   2    2    0    0    2    1  951    0    0    0]\n",
            " [   0    5    1    0    0    0    0 1019    0    3]\n",
            " [   5    0    3    1    0    1    2    2  952    8]\n",
            " [   0    1    0    0    4    2    0    4    0  998]]\n"
          ]
        }
      ]
    },
    {
      "cell_type": "code",
      "source": [
        "# Verdadeiro Positivo: são os termos da diagonal\n",
        "\n",
        "VP_list = np.diag(con_mat)"
      ],
      "metadata": {
        "id": "fXemnz6E53kh"
      },
      "execution_count": 30,
      "outputs": []
    },
    {
      "cell_type": "code",
      "source": [
        "# Falso Positivo: soma nas colunas, menos termo da diagonal\n",
        "FP_list = np.sum(con_mat, axis=0) - VP_list"
      ],
      "metadata": {
        "id": "5aAXiTsK5_cD"
      },
      "execution_count": 34,
      "outputs": []
    },
    {
      "cell_type": "code",
      "source": [
        "# Falso Negativo: soma das linhas, menos termo da diagonal\n",
        "FN_list = np.sum(con_mat, axis=1) - VP_list"
      ],
      "metadata": {
        "id": "loiZTFgk6jll"
      },
      "execution_count": 36,
      "outputs": []
    },
    {
      "cell_type": "code",
      "source": [
        "# Verdadeiro negativo: soma de todos os termos da matrix, menos a linha e a coluna para cada classe\n",
        "VN_list = np.sum(con_mat) - FN_list - FP_list - VP_list"
      ],
      "metadata": {
        "id": "2orvHrjc6-3U"
      },
      "execution_count": 48,
      "outputs": []
    },
    {
      "cell_type": "code",
      "source": [
        "# Checando se os valores somam o total de amostras\n",
        "l = len(test_images)\n",
        "for i in classes:\n",
        "    print(VP_list[i] + FP_list[i] + FN_list[i] + VN_list[i] == l)"
      ],
      "metadata": {
        "colab": {
          "base_uri": "https://localhost:8080/"
        },
        "id": "wqq4J4SB7u1q",
        "outputId": "785a0319-a048-4f05-afa3-87b3e51dbb99"
      },
      "execution_count": 51,
      "outputs": [
        {
          "output_type": "stream",
          "name": "stdout",
          "text": [
            "True\n",
            "True\n",
            "True\n",
            "True\n",
            "True\n",
            "True\n",
            "True\n",
            "True\n",
            "True\n",
            "True\n"
          ]
        }
      ]
    },
    {
      "cell_type": "code",
      "source": [
        "#Sensibilidade VP/(VP + FN) para cada classe\n",
        "\n",
        "Sens = VP_list/(VP_list+FN_list)\n",
        "print(Sens)"
      ],
      "metadata": {
        "colab": {
          "base_uri": "https://localhost:8080/"
        },
        "id": "9cGO89SN242z",
        "outputId": "100c4002-ab3c-45e7-b296-e9a122b54a7b"
      },
      "execution_count": 53,
      "outputs": [
        {
          "output_type": "stream",
          "name": "stdout",
          "text": [
            "[0.99693878 0.99735683 0.98643411 0.98415842 0.98676171 0.98766816\n",
            " 0.99269311 0.99124514 0.97741273 0.98909812]\n"
          ]
        }
      ]
    },
    {
      "cell_type": "code",
      "source": [
        "# Especificidade VN/(FP +VN) para cada classe\n",
        "Espc = VN_list/(FP_list + VN_list)\n",
        "print(Espc)"
      ],
      "metadata": {
        "colab": {
          "base_uri": "https://localhost:8080/"
        },
        "id": "hDHzRoXR89pT",
        "outputId": "b97bf8d0-b153-480c-dcc3-c8e644e6bce7"
      },
      "execution_count": 54,
      "outputs": [
        {
          "output_type": "stream",
          "name": "stdout",
          "text": [
            "[0.99889135 0.99864636 0.99933095 0.99944383 0.99911289 0.99901186\n",
            " 0.99911524 0.99743647 0.99977842 0.99710822]\n"
          ]
        }
      ]
    },
    {
      "cell_type": "code",
      "source": [
        "# Acurácia (VP + VN)/N para cada classe\n",
        "\n",
        "Acur = (VP_list + VN_list) / len(test_images)\n",
        "print(Acur)"
      ],
      "metadata": {
        "colab": {
          "base_uri": "https://localhost:8080/"
        },
        "id": "aB9kZLH99-x6",
        "outputId": "19d68974-b0f1-4fe1-e633-4cf160d4dc91"
      },
      "execution_count": 55,
      "outputs": [
        {
          "output_type": "stream",
          "name": "stdout",
          "text": [
            "[0.9987 0.9985 0.998  0.9979 0.9979 0.998  0.9985 0.9968 0.9976 0.9963]\n"
          ]
        }
      ]
    },
    {
      "cell_type": "code",
      "source": [
        "# Precisão VP / (VP + FP) para cada classe\n",
        "\n",
        "Prec = VP_list/(VP_list + FP_list)\n",
        "print(Prec)"
      ],
      "metadata": {
        "colab": {
          "base_uri": "https://localhost:8080/"
        },
        "id": "LQ0yKt07-ZwO",
        "outputId": "1ce58fdb-f49c-48b7-b35a-55dd69622160"
      },
      "execution_count": 57,
      "outputs": [
        {
          "output_type": "stream",
          "name": "stdout",
          "text": [
            "[0.98986829 0.98951049 0.99414062 0.99499499 0.99181167 0.98988764\n",
            " 0.99165798 0.97792706 0.99790356 0.97460938]\n"
          ]
        }
      ]
    },
    {
      "cell_type": "code",
      "source": [
        "# F-score para 2*P*S/ (P+S) cada classe\n",
        "\n",
        "Fscor = 2* Prec * Sens / (Prec + Sens)\n",
        "print(Fscor)"
      ],
      "metadata": {
        "colab": {
          "base_uri": "https://localhost:8080/"
        },
        "id": "9X9eYwAW-ziI",
        "outputId": "4a78886f-0b46-4bc0-a809-a2e3016fbb2f"
      },
      "execution_count": 58,
      "outputs": [
        {
          "output_type": "stream",
          "name": "stdout",
          "text": [
            "[0.99339095 0.99341817 0.99027237 0.98954704 0.98928025 0.98877666\n",
            " 0.99217527 0.98454106 0.98755187 0.9818003 ]\n"
          ]
        }
      ]
    },
    {
      "cell_type": "code",
      "source": [],
      "metadata": {
        "id": "i9tol9t2_Jzy"
      },
      "execution_count": null,
      "outputs": []
    }
  ]
}